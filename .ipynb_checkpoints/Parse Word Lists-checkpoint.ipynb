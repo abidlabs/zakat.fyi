{
 "cells": [
  {
   "cell_type": "markdown",
   "metadata": {},
   "source": [
    "# Data 1"
   ]
  },
  {
   "cell_type": "code",
   "execution_count": 1,
   "metadata": {},
   "outputs": [],
   "source": [
    "import json"
   ]
  },
  {
   "cell_type": "code",
   "execution_count": 3,
   "metadata": {},
   "outputs": [],
   "source": [
    "with open('raw_data/words.json') as f:\n",
    "    data = json.load(f)"
   ]
  },
  {
   "cell_type": "code",
   "execution_count": 13,
   "metadata": {},
   "outputs": [],
   "source": [
    "import csv\n",
    "with open('out_data/data1.csv', 'w', newline='') as file:\n",
    "    writer = csv.writer(file)    \n",
    "    for sample in data:\n",
    "        key_word =  sample['word'] \n",
    "        taboo_words = ','.join(sample['prohibited'])\n",
    "        writer.writerow([key_word, taboo_words])"
   ]
  },
  {
   "cell_type": "markdown",
   "metadata": {},
   "source": [
    "# Data 2"
   ]
  },
  {
   "cell_type": "code",
   "execution_count": 5,
   "metadata": {},
   "outputs": [],
   "source": [
    "import csv\n",
    "from string import punctuation\n",
    "\n",
    "with open('raw_data/cards.csv', newline='') as input_csvfile:\n",
    "    with open('out_data/data2.csv', 'w', newline='') as output_csvfile:\n",
    "        reader = csv.reader(input_csvfile, delimiter=',')\n",
    "        writer = csv.writer(output_csvfile) \n",
    "        for row in reader:\n",
    "            writer.writerow([row[1], row[2].strip(punctuation)])"
   ]
  },
  {
   "cell_type": "markdown",
   "metadata": {},
   "source": [
    "# Data 3"
   ]
  },
  {
   "cell_type": "code",
   "execution_count": 35,
   "metadata": {},
   "outputs": [],
   "source": [
    "import csv\n",
    "from string import punctuation\n",
    "\n",
    "def special_strip(word):\n",
    "    return word.strip().strip('{}').strip().strip('\"').strip()\n",
    "\n",
    "with open('raw_data/all_unique_words.txt', newline='') as input_csvfile:\n",
    "    with open('out_data/data3.csv', 'w', newline='') as output_csvfile:\n",
    "        reader = csv.reader(input_csvfile, delimiter=',')\n",
    "        writer = csv.writer(output_csvfile) \n",
    "        for r, row in enumerate(reader):\n",
    "            try:\n",
    "                key_word = special_strip(row[0])\n",
    "                taboo_words = ','.join([special_strip(row[i]) for i in range(1, 6)])\n",
    "                writer.writerow([key_word, taboo_words])\n",
    "            except IndexError:\n",
    "                pass"
   ]
  }
 ],
 "metadata": {
  "kernelspec": {
   "display_name": "Python 3",
   "language": "python",
   "name": "python3"
  },
  "language_info": {
   "codemirror_mode": {
    "name": "ipython",
    "version": 3
   },
   "file_extension": ".py",
   "mimetype": "text/x-python",
   "name": "python",
   "nbconvert_exporter": "python",
   "pygments_lexer": "ipython3",
   "version": "3.7.6"
  }
 },
 "nbformat": 4,
 "nbformat_minor": 4
}
